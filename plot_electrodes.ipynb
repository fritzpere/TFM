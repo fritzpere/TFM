{
 "cells": [
  {
   "cell_type": "code",
   "execution_count": 1,
   "metadata": {},
   "outputs": [],
   "source": [
    "from preprocess_data import *\n",
    "from TDApipeline import *\n",
    "from intensities_pipeline import *\n",
    "from knn_pipeline import *\n",
    "import scipy.io as sio\n",
    "import os\n",
    "import time  \n",
    "import matplotlib.pyplot as plt\n",
    "import pandas as pd\n",
    "import numpy.linalg as la\n",
    "import numpy as np"
   ]
  },
  {
   "cell_type": "code",
   "execution_count": null,
   "metadata": {},
   "outputs": [],
   "source": []
  },
  {
   "cell_type": "code",
   "execution_count": 2,
   "metadata": {},
   "outputs": [],
   "source": [
    "electrodes_pos = np.load('results/intensities/xy_coord.npy')\n"
   ]
  },
  {
   "cell_type": "code",
   "execution_count": 3,
   "metadata": {},
   "outputs": [],
   "source": [
    "electr_coord = pd.DataFrame(np.array([electrodes_pos[:, -1],\n",
    "                                              electrodes_pos[:, 1].astype(float),\n",
    "                                              electrodes_pos[:, 2].astype(float)]).T)\n"
   ]
  },
  {
   "cell_type": "code",
   "execution_count": null,
   "metadata": {},
   "outputs": [],
   "source": [
    "subjects=list(range(25,26)) \n",
    "bands=[-1,0,1,2] \n",
    "sessions=list(range(1,3))\n",
    "spaces=['electrodeSpace','fontSpace']\n",
    "band_dic={-1: 'noFilter', 0:'alpha',1:'beta',2:'gamma'} \n",
    "for subj in subjects:\n",
    "    silent_chan = np.load('results/intensities/subject_'+str(subj)+'/silent-channels-'+str(subj)+'.npy.npy')\n",
    "    electr_coord['is_silent'] = silent_chan\n",
    "    electr_coord.columns = ['electrode_name', 'x', 'y', 'is_silent']\n",
    "    for space in spaces:\n",
    "        fig, axes = plt.subplots(nrows=3, ncols=4, figsize=(24, 12))\n",
    "        plt.rcParams['xtick.labelsize']=18\n",
    "        for i in range(3):\n",
    "            for j in range(4):\n",
    "                "
   ]
  },
  {
   "cell_type": "code",
   "execution_count": null,
   "metadata": {},
   "outputs": [],
   "source": []
  }
 ],
 "metadata": {
  "kernelspec": {
   "display_name": "Python 3",
   "language": "python",
   "name": "python3"
  },
  "language_info": {
   "codemirror_mode": {
    "name": "ipython",
    "version": 3
   },
   "file_extension": ".py",
   "mimetype": "text/x-python",
   "name": "python",
   "nbconvert_exporter": "python",
   "pygments_lexer": "ipython3",
   "version": "3.8.10"
  }
 },
 "nbformat": 4,
 "nbformat_minor": 4
}
